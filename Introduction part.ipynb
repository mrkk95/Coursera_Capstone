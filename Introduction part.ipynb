{
    "cells": [
        {
            "cell_type": "markdown",
            "metadata": {
                "collapsed": true
            },
            "source": "# 1. Introduction "
        },
        {
            "cell_type": "markdown",
            "metadata": {},
            "source": "1.1 Background The average American moves about eleven times in their lifetime. This brings us to the question: Do people move until they find a place to settle down where they truly feel happy, or do our wants and needs change over time, prompting us to eventually leave a town we once called home for a new area that will bring us satisfaction? Or, do we too often move to a new area without knowing exactly what we\u2019re getting into, forcing us to turn tail and run at the first sign of discomfort? \n "
        },
        {
            "cell_type": "markdown",
            "metadata": {},
            "source": "To minimize the chances of this happening, we should always do proper research when planning our next move in life. Consider the following factors when picking a new place to live so you don\u2019t end up wasting your valuable time and money making a move you\u2019ll end up regretting. Safety is a top concern when moving to a new area. If you don\u2019t feel safe in your own home, you\u2019re not going to be able to enjoy living there. \n "
        },
        {
            "cell_type": "markdown",
            "metadata": {},
            "source": "1.2 Problem The crime statistics dataset of London found on Kaggle has crimes in each Boroughs of London from 2008 to 2016. The year 2016 being the latest we will be considering the data of that year which is actually old information as of now. The crime rates in each borough may have changed over time.  \n "
        },
        {
            "cell_type": "markdown",
            "metadata": {},
            "source": "This project aims to select the safest borough in London based on the total crimes, explore the neighborhoods of that borough to find the 10 most common venues in each neighborhood and finally cluster the neighborhoods using k-mean clustering. \n \n"
        },
        {
            "cell_type": "markdown",
            "metadata": {},
            "source": "1.3 Interest  Expats who are considering to relocate to London will be interested to identify the safest borough in London and explore its neighborhoods and common venues around each neighborhood. "
        }
    ],
    "metadata": {
        "kernelspec": {
            "display_name": "Python 3.6",
            "language": "python",
            "name": "python3"
        },
        "language_info": {
            "codemirror_mode": {
                "name": "ipython",
                "version": 3
            },
            "file_extension": ".py",
            "mimetype": "text/x-python",
            "name": "python",
            "nbconvert_exporter": "python",
            "pygments_lexer": "ipython3",
            "version": "3.6.9"
        }
    },
    "nbformat": 4,
    "nbformat_minor": 1
}